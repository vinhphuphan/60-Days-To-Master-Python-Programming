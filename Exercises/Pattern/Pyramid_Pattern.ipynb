{
 "cells": [
  {
   "cell_type": "markdown",
   "id": "20d49d6e",
   "metadata": {},
   "source": [
    "#### Pyramid Pattern\n",
    "\n",
    "**Problem Description:**\n",
    "\n",
    "You are given an integer n. Your task is to return a pyramid pattern of '*' where each side has n rows, represented as a list of strings. The pyramid is centered, with 1 star in the first row, 3 stars in the second row, and so on, increasing by 2 stars per row until the base row has 2n - 1 stars.\n",
    "\n",
    "**Input:** A single integer n, where 1 <= n <= 100.\n",
    "\n",
    "**Output:** A list of strings where each string contains stars ('*') centered, forming a pyramid shape. Each row has an increasing number of stars, with appropriate spaces for centering.\n",
    "\n",
    "**Example:**\n",
    "\n",
    "Input: 3\n",
    "Output: ['  *  ', ' *** ', '*****']\n",
    " \n",
    "Input: 5\n",
    "Output: ['    *    ', '   ***   ', '  *****  ', ' ******* ', '*********']\n",
    "\n",
    "##### Phân tích vấn đề\n",
    "    - nhận vào số nguyên n\n",
    "    - Input là 3 thì sẽ có 5 (2n-1) phần tử trong 1 string, có 3 strings trong list kết quả\n",
    "    - Input là 5 thì sẽ có 9 (2n-1) phần tử trong 1 string, có 5 strings trong list kết quả\n",
    "    - Input là 5 thì sẽ có 9 (2n-1) phần tử trong 1 string, có 5 strings trong list kết quả\n",
    "\n",
    "##### Pseudo code\n",
    "\n",
    "Input: n (integer) - số lượng dòng của kim tự tháp\n",
    "\n",
    "1. Khởi tạo một danh sách rỗng tên là result để lưu các dòng của kim tự tháp.\n",
    "\n",
    "2. Lặp i từ 0 đến n-1 (tức là tổng cộng n lần):\n",
    "   \n",
    "   a. Tính số lượng khoảng trắng bên trái (và phải):\n",
    "      - spaces = n - i - 1\n",
    "\n",
    "   b. Tính số lượng dấu '*' ở giữa:\n",
    "      - stars = 2 * i + 1\n",
    "\n",
    "   c. Tạo chuỗi cho dòng hiện tại:\n",
    "      - Tạo spaces chuỗi ' ' (khoảng trắng)\n",
    "      - Nối thêm stars ký tự '*'\n",
    "      - Nối thêm spaces chuỗi ' ' (khoảng trắng)\n",
    "   \n",
    "   d. Thêm chuỗi vừa tạo vào danh sách result.\n",
    "\n",
    "3. Sau khi kết thúc vòng lặp, trả về danh sách result."
   ]
  },
  {
   "cell_type": "code",
   "execution_count": null,
   "id": "cf776cc0",
   "metadata": {},
   "outputs": [],
   "source": [
    "def generate_pyramid(n):\n",
    "    \"\"\"\n",
    "    Function to return a pyramid pattern of '*' of side n as a list of strings.\n",
    "    \n",
    "    Parameters:\n",
    "    n (int): The number of rows in the pyramid.\n",
    "    \n",
    "    Returns:\n",
    "    list: A list of strings where each string represents a row of the pyramid.\n",
    "    \"\"\"\n",
    "    # Your code here\n",
    "    result = []\n",
    "    for i in range(n) :\n",
    "        string_example = \" \"* (n - i - 1) + \"*\" * (2 * i + 1) + \" \" * ( n - i - 1 )\n",
    "        result.append(string_example)\n",
    "\n",
    "    return result\n",
    "    \n",
    "\n",
    "    "
   ]
  }
 ],
 "metadata": {
  "kernelspec": {
   "display_name": "Python 3",
   "language": "python",
   "name": "python3"
  },
  "language_info": {
   "name": "python",
   "version": "3.12.0"
  }
 },
 "nbformat": 4,
 "nbformat_minor": 5
}
