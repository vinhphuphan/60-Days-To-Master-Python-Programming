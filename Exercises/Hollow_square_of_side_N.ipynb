{
 "cells": [
  {
   "cell_type": "markdown",
   "id": "294ad1a9",
   "metadata": {},
   "source": [
    "####Hollow Square of side 'N'\n",
    "\n",
    "**Problem Description**:\n",
    "\n",
    "You are given an integer n. Your task is to return a hollow square pattern of size n x n made up of the character '* ', represented as a list of strings. The hollow square has '*' on the border, and spaces ' ' in the middle (except for side lengths of 1 and 2).\n",
    "\n",
    "\n",
    "\n",
    "Input Parameters:\n",
    "\n",
    "n (int): The size of the square (number of rows and columns).\n",
    "\n",
    "\n",
    "\n",
    "Output:\n",
    "\n",
    "A list of strings where each string is a row of n characters, representing a hollow square.\n",
    "\n",
    "\n",
    "\n",
    "Example:\n",
    "\n",
    "Input: 3\n",
    "Output: ['*** ', '* * ', '***']\n",
    " \n",
    "Input: 5\n",
    "Output: ['***** ', '*   * ', '*   * ', '*   * ', '*****']\n"
   ]
  },
  {
   "cell_type": "code",
   "execution_count": null,
   "id": "b2e04324",
   "metadata": {},
   "outputs": [],
   "source": [
    "def generate_hollow_square(n):\n",
    "    \"\"\"\n",
    "    Function to return a hollow square pattern of '*' of side n as a list of strings.\n",
    "    \n",
    "    Parameters:\n",
    "    n (int): The size of the square.\n",
    "    \n",
    "    Returns:\n",
    "    list: A list of strings where each string represents a row of the hollow square.\n",
    "    \"\"\"\n",
    "    # Your code here\n",
    "\n",
    "    result = []\n",
    "\n",
    "    if (n == 1) :\n",
    "        return [\"*\"]\n",
    "    elif (n == 2) :\n",
    "        return [\"**\" , \"**\"]\n",
    "    \n",
    "    for i in range(n):\n",
    "        if (i == 0 and i == n-1):\n",
    "            string_example = \"*\"*n\n",
    "        else:\n",
    "            string_example = \"*\" + \" \" * (n-2) + \"*\" \n",
    "\n",
    "        result.append(string_example)\n",
    "    \n",
    "    return result\n"
   ]
  }
 ],
 "metadata": {
  "kernelspec": {
   "display_name": "Python 3",
   "language": "python",
   "name": "python3"
  },
  "language_info": {
   "name": "python",
   "version": "3.12.0"
  }
 },
 "nbformat": 4,
 "nbformat_minor": 5
}
