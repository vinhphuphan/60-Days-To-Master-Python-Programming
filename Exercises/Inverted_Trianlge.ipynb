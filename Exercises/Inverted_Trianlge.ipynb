{
 "cells": [
  {
   "cell_type": "markdown",
   "id": "6910724e",
   "metadata": {},
   "source": [
    "#### Inverted Right Angled Triangle\n",
    "\n",
    "**Problem Description:**\n",
    "\n",
    "You are given an integer n. Your task is to return an inverted right-angled triangle pattern of '*' where each side has n characters, represented as a list of strings. The first row should have n stars, the second row n-1 stars, and so on, until the last row has 1 star.\n",
    "\n",
    "**Input Parameters:**\n",
    "\n",
    "n (int): The height and base of the inverted right-angled triangle.\n",
    "\n",
    "**Output:**\n",
    "\n",
    "A list of strings where each string is a row of '*' characters that decreases in length from n to 1.\n",
    "\n",
    "\n",
    "\n",
    "**Example:**\n",
    "\n",
    "Input: 3\n",
    "Output: ['*** ', '** ', '*']\n",
    " \n",
    "Input: 5\n",
    "Output: ['***** ', '**** ', '*** ', '** ', '*']"
   ]
  },
  {
   "cell_type": "code",
   "execution_count": null,
   "id": "fd6d1d78",
   "metadata": {},
   "outputs": [],
   "source": [
    "def generate_inverted_triangle(n):\n",
    "    \"\"\"\n",
    "    Function to return an inverted right-angled triangle of '*' of side n as a list of strings.\n",
    "    \n",
    "    Parameters:\n",
    "    n (int): The height and base of the triangle.\n",
    "    \n",
    "    Returns:\n",
    "    list: A list of strings where each string represents a row of the triangle.\n",
    "    \"\"\"\n",
    "    # Your code here\n",
    "    return [\"*\"*(n-i) for i in range(n)] "
   ]
  }
 ],
 "metadata": {
  "kernelspec": {
   "display_name": "Python 3",
   "language": "python",
   "name": "python3"
  },
  "language_info": {
   "name": "python",
   "version": "3.12.0"
  }
 },
 "nbformat": 4,
 "nbformat_minor": 5
}
