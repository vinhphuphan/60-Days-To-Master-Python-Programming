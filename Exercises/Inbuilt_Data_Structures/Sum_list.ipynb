{
 "cells": [
  {
   "cell_type": "markdown",
   "id": "9ce050d5",
   "metadata": {},
   "source": [
    "#### Sum of List Elements\n",
    "**Problem Description**\n",
    "\n",
    "Sum of List Elements\n",
    "\n",
    "Write a Python function that calculates the sum of all elements in a given list of integers.\n",
    "\n",
    "**Parameters:**\n",
    "\n",
    "numbers (List of integers): The input list containing integers.\n",
    "\n",
    "**Returns:**\n",
    "\n",
    "An integer representing the sum of all elements in the input list.\n",
    "\n",
    "Example:\n",
    "\n",
    "Input: numbers = [1, 2, 3, 4, 5]\n",
    "Output: 15\n",
    "\n",
    "Input: numbers = [10, -5, 7, 8, -2]\n",
    "Output: 18"
   ]
  },
  {
   "cell_type": "code",
   "execution_count": 1,
   "id": "039979e2",
   "metadata": {},
   "outputs": [],
   "source": [
    "def sum_list(numbers):\n",
    "    # Your code goes here\n",
    "    result = 0\n",
    "    for i in numbers:\n",
    "        result += i\n",
    "    \n",
    "    return result"
   ]
  }
 ],
 "metadata": {
  "kernelspec": {
   "display_name": "Python 3",
   "language": "python",
   "name": "python3"
  },
  "language_info": {
   "codemirror_mode": {
    "name": "ipython",
    "version": 3
   },
   "file_extension": ".py",
   "mimetype": "text/x-python",
   "name": "python",
   "nbconvert_exporter": "python",
   "pygments_lexer": "ipython3",
   "version": "3.12.0"
  }
 },
 "nbformat": 4,
 "nbformat_minor": 5
}
