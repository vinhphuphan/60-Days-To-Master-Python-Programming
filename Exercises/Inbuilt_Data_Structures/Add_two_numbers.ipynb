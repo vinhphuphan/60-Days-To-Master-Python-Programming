{
 "cells": [
  {
   "cell_type": "markdown",
   "id": "5f6ead71",
   "metadata": {},
   "source": [
    "##### 2. Add Two Numbers\n",
    "\n",
    "You are given two non-empty linked lists representing two non-negative integers. The digits are stored in reverse order, and each of their nodes contains a single digit. Add the two numbers and return the sum as a linked list.\n",
    "\n",
    "You may assume the two numbers do not contain any leading zero, except the number 0 itself.\n",
    "\n",
    "Input : two non-empty linked lists representing two non-negative integers\n",
    "\n",
    "Output : return the sum as a linked list.\n",
    "\n",
    "Input: l1 = [2,4,3], l2 = [5,6,4]\n",
    "Output: [7,0,8]\n",
    "Explanation: 342 + 465 = 807.\n",
    "Example 2:\n",
    "\n",
    "Input: l1 = [0], l2 = [0]\n",
    "Output: [0]\n",
    "Example 3:\n",
    "\n",
    "Input: l1 = [9,9,9,9,9,9,9], l2 = [9,9,9,9]\n",
    "Output: [8,9,9,9,0,0,0,1]\n",
    "\n",
    " "
   ]
  },
  {
   "cell_type": "markdown",
   "id": "80a8346b",
   "metadata": {},
   "source": [
    "##### Phân tích vấn đề\n",
    "- Nhận vào 2 linked list thể hiện như 2 số nguyên không âm\n",
    "- Trả về tổng của 2 số dưới dạng 1 linked list\n",
    "\n",
    "##### Ý tưởng giải thuật\n",
    "- Duyệt đồng thời 2 linked list.\n",
    "- Tính tổng từng node + nhớ \"carry\" từ phép cộng trước (giống cộng thủ công).\n",
    "- Tạo node mới ngay trong lúc duyệt mà không cần ép thành số nguyên.    \n",
    "\n",
    "##### Pseudo code\n",
    "\n",
    "- Khởi tạo một dummy head node.\n",
    "- Khởi tạo carry = 0.\n",
    "- Trong khi l1 hoặc l2 còn tồn tại:\n",
    "    - Lấy giá trị của l1 và l2 nếu có, không thì 0.\n",
    "    - Tính sum = val1 + val2 + carry.\n",
    "    - Gán carry = sum // 10.\n",
    "    - Gán giá trị node mới = sum % 10.\n",
    "    - Di chuyển l1, l2 tới node tiếp theo nếu còn.\n",
    "- Nếu carry > 0, thêm một node mới với giá trị carry.\n",
    "- Trả về dummy head.next.\n",
    "\n"
   ]
  },
  {
   "cell_type": "code",
   "execution_count": 3,
   "id": "2bfd5dbe",
   "metadata": {},
   "outputs": [],
   "source": [
    "# Definition for singly-linked list.\n",
    "class ListNode:\n",
    "    def __init__(self, val=0, next=None):\n",
    "        self.val = val\n",
    "        self.next = next\n",
    "class Solution:\n",
    "    def addTwoNumbers(self, l1: [ListNode], l2: [ListNode]) -> [ListNode]:\n",
    "        # Dummy node để dễ dàng quản lý head\n",
    "        dummy_head = ListNode(0) \n",
    "        current = dummy_head\n",
    "        carry = 0\n",
    "\n",
    "        while l1 or l2 or carry :\n",
    "            # Lấy giá trị của node hiện tại (nếu node tồn tại)\n",
    "            val1 = l1.val if l1 else 0\n",
    "            val2 = l2.val if l2 else 0\n",
    "            \n",
    "            # Tính tổng + phần dư từ phép cộng trước\n",
    "            total = val1 + val2 + carry\n",
    "\n",
    "            # Cập nhật carry cho lần sau\n",
    "            carry = total // 10\n",
    "\n",
    "            # Giá trị mới của node = total % 10\n",
    "            current.next = ListNode(total%10)\n",
    "\n",
    "            # Di chuyển current tới node mới vừa tạo\n",
    "            current = current.next\n",
    "\n",
    "            # Di chuyển l1 và l2 nếu còn node\n",
    "            if l1 : l1 = l1.next\n",
    "\n",
    "            if l2 : l2 = l2.next\n",
    "\n",
    "\n",
    "        return dummy_head.next"
   ]
  }
 ],
 "metadata": {
  "kernelspec": {
   "display_name": "Python 3",
   "language": "python",
   "name": "python3"
  },
  "language_info": {
   "codemirror_mode": {
    "name": "ipython",
    "version": 3
   },
   "file_extension": ".py",
   "mimetype": "text/x-python",
   "name": "python",
   "nbconvert_exporter": "python",
   "pygments_lexer": "ipython3",
   "version": "3.12.0"
  }
 },
 "nbformat": 4,
 "nbformat_minor": 5
}
