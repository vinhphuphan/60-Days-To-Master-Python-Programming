{
 "cells": [
  {
   "cell_type": "markdown",
   "id": "9ca6f08a",
   "metadata": {},
   "source": [
    "#### 14. Longest Common Prefix\n",
    "\n",
    "\n",
    "Write a function to find the longest common prefix string amongst an array of strings.\n",
    "\n",
    "If there is no common prefix, return an empty string \"\".\n",
    "\n",
    " \n",
    "\n",
    "Example 1:\n",
    "\n",
    "Input: strs = [\"flower\",\"flow\",\"flight\"]\n",
    "Output: \"fl\"\n",
    "Example 2:\n",
    "\n",
    "Input: strs = [\"dog\",\"racecar\",\"car\"]\n",
    "Output: \"\"\n",
    "Explanation: There is no common prefix among the input strings."
   ]
  },
  {
   "cell_type": "markdown",
   "id": "b207365d",
   "metadata": {},
   "source": [
    "##### Phân tích vấn đề\n",
    "- Nhận vào một list có chứa các string\n",
    "- Trả về common prefix nếu có hoặc trả về thông báo rằng không có common prefix\n",
    "- Tạo một biến string để lưu kí tự chung trước\n",
    "- Duyệt qua các string ở trong list\n",
    "- Sau đó so sánh từng char trong cặp string kế bên để tìm xem chúng có giống nhau không \n",
    "--> Nhưng làm sao để so sánh từng cặp strings để giữ lại kí tự chung của 2 strings. CÓ thể sử dụng slicer."
   ]
  },
  {
   "cell_type": "markdown",
   "id": "42efa2bb",
   "metadata": {},
   "source": [
    "##### Ý tưởng\n",
    "\n",
    "1. Khởi tạo prefix là string đầu tiên\n",
    "2. Với mỗi string còn lại:\n",
    "\n",
    "    Trong khi string đó không bắt đầu bằng prefix:\n",
    "\n",
    "    Rút ngắn prefix đi (bỏ ký tự cuối cùng).\n",
    "\n",
    "    Nếu prefix thành \"\" thì return luôn \"\"\n",
    "3. Trả về prefix."
   ]
  },
  {
   "cell_type": "markdown",
   "id": "7f07665d",
   "metadata": {},
   "source": [
    "##### Pseudo code\n",
    "\n",
    "prefix = str_list[0]\n",
    "\n",
    "for str in str_list[1:]:\n",
    "    while (prefix != \"\" and str does not start with prefix):\n",
    "        prefix = prefix[:-1]   # Remove last character from prefix\n",
    "    if prefix == \"\":\n",
    "        return \"\"\n",
    "\n",
    "return prefix    \n"
   ]
  },
  {
   "cell_type": "code",
   "execution_count": 2,
   "id": "b95806c5",
   "metadata": {},
   "outputs": [],
   "source": [
    "def longestCommonPrefix(strs) :\n",
    "        prefix = strs[0]\n",
    "\n",
    "        for str in strs[1:] :\n",
    "            while (prefix != \"\" and str.startswith(prefix) == False) :\n",
    "                prefix = prefix[:-1]\n",
    "            \n",
    "            if (prefix == \"\"):\n",
    "                return \"\"\n",
    "\n",
    "        return prefix"
   ]
  },
  {
   "cell_type": "code",
   "execution_count": null,
   "id": "3e1a55ee",
   "metadata": {},
   "outputs": [],
   "source": []
  }
 ],
 "metadata": {
  "kernelspec": {
   "display_name": "Python 3",
   "language": "python",
   "name": "python3"
  },
  "language_info": {
   "codemirror_mode": {
    "name": "ipython",
    "version": 3
   },
   "file_extension": ".py",
   "mimetype": "text/x-python",
   "name": "python",
   "nbconvert_exporter": "python",
   "pygments_lexer": "ipython3",
   "version": "3.12.0"
  }
 },
 "nbformat": 4,
 "nbformat_minor": 5
}
