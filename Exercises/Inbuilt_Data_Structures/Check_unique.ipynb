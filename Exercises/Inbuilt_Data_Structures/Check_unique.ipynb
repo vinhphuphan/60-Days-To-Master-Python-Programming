{
 "cells": [
  {
   "cell_type": "markdown",
   "id": "6cabed74",
   "metadata": {},
   "source": [
    "#### Check if All Elements in a List are Unique\n",
    "\n",
    "You are given a list of integers. Write a Python program that checks if all elements in the list are unique. If all elements are unique, return True; otherwise, return False.\n",
    "\n",
    "Parameters:  lst (List of integers): The list of integers to check for uniqueness.\n",
    "\n",
    "\n",
    "Returns: A boolean value True if all elements in the list are unique, False otherwise.\n",
    "\n",
    "\n",
    "Example:\n",
    "\n",
    "Input: lst = [1, 2, 3, 4, 5]\n",
    "Output: True\n",
    "\n",
    "Input: lst = [1, 2, 3, 3, 4, 5]\n",
    "Output: False"
   ]
  },
  {
   "cell_type": "code",
   "execution_count": null,
   "id": "9ed26e9d",
   "metadata": {},
   "outputs": [],
   "source": [
    "def check_unique(lst):\n",
    "    # Your code goes here\n",
    "    temp = []\n",
    "    for i in lst :\n",
    "        if (i in temp) :\n",
    "            return False\n",
    "        else :\n",
    "            temp.append(i)\n",
    "    \n",
    "    return True\n"
   ]
  }
 ],
 "metadata": {
  "kernelspec": {
   "display_name": "Python 3",
   "language": "python",
   "name": "python3"
  },
  "language_info": {
   "codemirror_mode": {
    "name": "ipython",
    "version": 3
   },
   "file_extension": ".py",
   "mimetype": "text/x-python",
   "name": "python",
   "nbconvert_exporter": "python",
   "pygments_lexer": "ipython3",
   "version": "3.12.0"
  }
 },
 "nbformat": 4,
 "nbformat_minor": 5
}
