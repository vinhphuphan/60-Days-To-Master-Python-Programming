{
 "cells": [
  {
   "cell_type": "markdown",
   "id": "615c839a",
   "metadata": {},
   "source": [
    "Check for anagrams\n",
    "Problem Description:\n",
    "\n",
    "You are given two strings s and t. Your task is to determine if string t is an anagram of string s. An anagram is a word or phrase formed by rearranging the characters of a different word or phrase, using all the original characters exactly once.\n",
    "\n",
    "\n",
    "\n",
    "Input:\n",
    "\n",
    "Two strings s and t where both lengths are between 1 and 1000.\n",
    "\n",
    "\n",
    "\n",
    "Output:\n",
    "\n",
    "Return True if t is an anagram of s, and False otherwise.\n",
    "\n",
    "\n",
    "\n",
    "Example:\n",
    "\n",
    "Input: s = \"anagram\", t = \"nagaram\"\n",
    "Output: True\n",
    " \n",
    "Input: s = \"rat\", t = \"car\"\n",
    "Output: False"
   ]
  },
  {
   "cell_type": "markdown",
   "id": "9dfc6c28",
   "metadata": {},
   "source": [
    "#### Phân tích vấn đề\n",
    "\n",
    "- Nhập vào 2 chuỗi `s` và `t`, độ dài trong khoảng [1, 1000].\n",
    "- Mục tiêu: kiểm tra xem `t` có phải là anagram của `s` không.\n",
    "- Điều kiện: hai chuỗi là anagram nếu:\n",
    "  + Có cùng số lượng ký tự.\n",
    "  + Các ký tự xuất hiện với cùng tần suất (bất kể thứ tự).\n",
    "\n",
    "#### Thiết kế giải thuật\n",
    "\n",
    "- Bước 1: Nếu độ dài 2 chuỗi khác nhau → chắc chắn không phải anagram.\n",
    "- Bước 2: Duyệt qua từng ký tự của `s` và `t`, đếm số lần xuất hiện.\n",
    "- Bước 3: So sánh hai bảng đếm → giống nhau thì là anagram.\n",
    "\n",
    "#### Giải pháp đề xuất: \n"
   ]
  },
  {
   "cell_type": "code",
   "execution_count": 8,
   "id": "ea8680c6",
   "metadata": {},
   "outputs": [
    {
     "name": "stdout",
     "output_type": "stream",
     "text": [
      "True\n",
      "False\n"
     ]
    }
   ],
   "source": [
    "def is_anagram(s, t):\n",
    "    \"\"\"\n",
    "    Function to check if t is an anagram of s.\n",
    "    \n",
    "    Parameters:\n",
    "    s (str): The first input string.\n",
    "    t (str): The second input string.\n",
    "    \n",
    "    Returns:\n",
    "    bool: True if t is an anagram of s, False otherwise.\n",
    "    \"\"\"\n",
    "    # Your code here\n",
    "    if len(s) != len(t):\n",
    "        return False\n",
    "    \n",
    "    count = [0] * 26;\n",
    "\n",
    "    for i in range(len(s)):\n",
    "        count[ord(s[i]) - ord('a')] +=1\n",
    "        count[ord(t[i]) - ord('a')] -=1\n",
    "\n",
    "    for c in count:\n",
    "        if (c != 0) :\n",
    "            return False\n",
    "    \n",
    "    return True\n",
    "\n",
    "\n",
    "print(is_anagram(\"anagram\", \"nagaram\"))\n",
    "print(is_anagram(\"rat\", \"car\"))\n"
   ]
  }
 ],
 "metadata": {
  "kernelspec": {
   "display_name": "Python 3",
   "language": "python",
   "name": "python3"
  },
  "language_info": {
   "codemirror_mode": {
    "name": "ipython",
    "version": 3
   },
   "file_extension": ".py",
   "mimetype": "text/x-python",
   "name": "python",
   "nbconvert_exporter": "python",
   "pygments_lexer": "ipython3",
   "version": "3.12.0"
  }
 },
 "nbformat": 4,
 "nbformat_minor": 5
}
