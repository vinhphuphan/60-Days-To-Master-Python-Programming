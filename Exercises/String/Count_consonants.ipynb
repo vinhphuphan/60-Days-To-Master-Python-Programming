{
 "cells": [
  {
   "cell_type": "markdown",
   "id": "3e14230b",
   "metadata": {},
   "source": [
    "Count consonants in a string\n",
    "Problem Description:\n",
    "\n",
    "You are given a string s. Your task is to count the number of consonants in the string and return the total count. A consonant is any alphabetic character that is not a vowel (a, e, i, o, u).\n",
    "\n",
    "\n",
    "\n",
    "Input:\n",
    "\n",
    "A single string s, where the length of s is between 1 and 1000.\n",
    "\n",
    "\n",
    "\n",
    "Output:\n",
    "\n",
    "An integer representing the total count of consonants in the input string.\n",
    "\n",
    "\n",
    "\n",
    "Example:\n",
    "\n",
    "Input: \"Hello, World!\"\n",
    "Output: 7\n",
    " \n",
    "Input: \"Python Programming\"\n",
    "Output: 13"
   ]
  },
  {
   "cell_type": "code",
   "execution_count": 2,
   "id": "e213acf8",
   "metadata": {},
   "outputs": [
    {
     "name": "stdout",
     "output_type": "stream",
     "text": [
      "hllwrld\n"
     ]
    }
   ],
   "source": [
    "def count_consonants(s):\n",
    "    \"\"\"\n",
    "    Function to count the number of consonants in the input string.\n",
    "    \n",
    "    Parameters:\n",
    "    s (str): The input string to check for consonants.\n",
    "    \n",
    "    Returns:\n",
    "    int: The count of consonants in the input string.\n",
    "    \"\"\"\n",
    "    # Your code here\n",
    "    vowels = [\"a\" , \"e\", \"i\" ,\"o\" ,\"u\"] \n",
    "    s = \"\".join(filter(str.isalnum, s.lower()))\n",
    "    new_string = \"\"\n",
    "    \n",
    "    for char in s:\n",
    "        if char not in vowels:\n",
    "            new_string += char\n",
    "        \n",
    "    return new_string\n",
    "    \n",
    "\n",
    "print(count_consonants(\"Hello, World!\"))\n",
    "    \n"
   ]
  }
 ],
 "metadata": {
  "kernelspec": {
   "display_name": "Python 3",
   "language": "python",
   "name": "python3"
  },
  "language_info": {
   "codemirror_mode": {
    "name": "ipython",
    "version": 3
   },
   "file_extension": ".py",
   "mimetype": "text/x-python",
   "name": "python",
   "nbconvert_exporter": "python",
   "pygments_lexer": "ipython3",
   "version": "3.12.0"
  }
 },
 "nbformat": 4,
 "nbformat_minor": 5
}
