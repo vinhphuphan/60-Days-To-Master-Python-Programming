{
 "cells": [
  {
   "cell_type": "markdown",
   "id": "72c53821",
   "metadata": {},
   "source": [
    "Check Subsequence\n",
    "Problem Description:\n",
    "\n",
    "You are given two strings s and t. Your task is to determine if string t is a subsequence of string s. A subsequence of a string is a new string that is formed from the original string by deleting some (or no) characters without changing the order of the remaining characters.\n",
    "\n",
    "\n",
    "\n",
    "Input:\n",
    "\n",
    "Two strings s and t where the length of s is between 1 and 1000, and the length of t is between 1 and 1000.\n",
    "\n",
    "\n",
    "\n",
    "Output:\n",
    "\n",
    "Return True if t is a subsequence of s, and False otherwise.\n",
    "\n",
    "\n",
    "\n",
    "Example:\n",
    "\n",
    "Input: s = \"abcde\", t = \"ace\"\n",
    "Output: True\n",
    " \n",
    "Input: s = \"abcde\", t = \"aec\"\n",
    "Output: False\n"
   ]
  },
  {
   "cell_type": "markdown",
   "id": "cfd44d52",
   "metadata": {},
   "source": [
    "#### Phân tích vấn đề\n",
    "\n",
    "- Nhập vào 2 chuỗi `s` và `t`, độ dài trong khoảng [1, 1000].\n",
    "- Mục tiêu: kiểm tra xem `t` có phải là subsequence của `s` không.\n",
    "- Điều kiện: hai chuỗi là subsequence nếu:\n",
    "  + chuỗi mới được hình thành từ chuỗi cũ có thể xóa một vài hoặc không xóa kí tự nào.\n",
    "  + Phải tuân theo đúng thứ tự của chuỗi cũ.\n",
    "\n",
    "#### Thiết kế giải thuật\n",
    "\n",
    "- Bước 1: Nếu độ dài chuỗi mới hơn chuỗi cũ → chắc chắn không phải subsequence.\n",
    "- Bước 2: Kiểm tra xem thành phần trong chuỗi mới có phải là từ chuỗi cũ\n",
    "    + Tạo 1 array 26 kí tự, tăng thêm 1 cho kí tự của chuỗi mới rồi trừ 1 nếu có trong chuỗi gốc\n",
    "    + Kiểm tra array , nếu có dư thì trả về False\n",
    "\n",
    "- Bước 3: Kiểm tra xem có đúng thứ tự không\n",
    "    + Ý tưởng : Dùng dictionary , xem kí tự như là key, và index của kí tự đó là value để lưu lại các giá trị.\n",
    "    Sau đó so sánh index để kiểm tra xem có đúng thứ tự với chuỗi gốc không\n",
    "\n",
    "#### Giải pháp đề xuất: \n",
    "✅ Giải pháp gợi ý: Dùng hai con trỏ (Two-pointer approach)\n",
    "✅ Ý tưởng:\n",
    "\n",
    "\n",
    "Duyệt cả hai chuỗi bằng hai con trỏ i (cho s) và j (cho t).\n",
    "\n",
    "\n",
    "Mỗi khi s[i] == t[j] thì tăng j lên 1 (tìm thấy một ký tự khớp).\n",
    "\n",
    "\n",
    "Cuối cùng, nếu j == len(t) thì t là subsequence của s."
   ]
  },
  {
   "cell_type": "code",
   "execution_count": null,
   "id": "d4f0d0d4",
   "metadata": {},
   "outputs": [],
   "source": [
    "def is_subsequence(s, t):\n",
    "    \"\"\"\n",
    "    Function to check if t is a subsequence of s.\n",
    "    \n",
    "    Parameters:\n",
    "    s (str): The original string.\n",
    "    t (str): The target subsequence string.\n",
    "    \n",
    "    Returns:\n",
    "    bool: True if t is a subsequence of s, False otherwise.\n",
    "    \"\"\"\n",
    "    # Your code here\n",
    "    i, j = 0, 0\n",
    "    \n",
    "    while i < len(s) and j < len(t) :\n",
    "        if s[i] == t[j]:\n",
    "            j += 1\n",
    "        i += 1\n",
    "\n",
    "    return j == len(t)\n",
    "    \n"
   ]
  }
 ],
 "metadata": {
  "kernelspec": {
   "display_name": "Python 3",
   "language": "python",
   "name": "python3"
  },
  "language_info": {
   "codemirror_mode": {
    "name": "ipython",
    "version": 3
   },
   "file_extension": ".py",
   "mimetype": "text/x-python",
   "name": "python",
   "nbconvert_exporter": "python",
   "pygments_lexer": "ipython3",
   "version": "3.12.0"
  }
 },
 "nbformat": 4,
 "nbformat_minor": 5
}
