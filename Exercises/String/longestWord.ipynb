{
 "cells": [
  {
   "cell_type": "markdown",
   "id": "f417d15c",
   "metadata": {},
   "source": [
    "720. Longest Word in Dictionary\n",
    "\n",
    "Given an array of strings words representing an English Dictionary, return the longest word in words that can be built one character at a time by other words in words.\n",
    "\n",
    "If there is more than one possible answer, return the longest word with the smallest lexicographical order. If there is no answer, return the empty string.\n",
    "\n",
    "Note that the word should be built from left to right with each additional character being added to the end of a previous word. \n",
    "\n",
    " \n",
    "\n",
    "Example 1:\n",
    "\n",
    "Input: words = [\"w\",\"wo\",\"wor\",\"worl\",\"world\"]\n",
    "Output: \"world\"\n",
    "Explanation: The word \"world\" can be built one character at a time by \"w\", \"wo\", \"wor\", and \"worl\".\n",
    "Example 2:\n",
    "\n",
    "Input: words = [\"a\",\"banana\",\"app\",\"appl\",\"ap\",\"apply\",\"apple\"]\n",
    "Output: \"apple\"\n",
    "Explanation: Both \"apply\" and \"apple\" can be built from other words in the dictionary. However, \"apple\" is lexicographically smaller than \"apply\"."
   ]
  },
  {
   "cell_type": "markdown",
   "id": "ca7589bd",
   "metadata": {},
   "source": [
    "#### Phân tích vấn đề\n",
    "\n",
    "- Nhận vào 1 array của các string\n",
    "- Mục tiêu: Trả về từ dài nhất ở trong array mà được cấu thành từ những từ trước đó, thêm 1 kí tự mỗi lần thêm.\n",
    "- Có thể có nhiều hơn 1 đáp án, lúc này sẽ chọn từ có the smallest lexicographical order\n",
    "\n",
    "#### Thiết kế giải thuật\n",
    "\n",
    "- Lấy string đầu tiên làm string kết quả\n",
    "- duyệt qua array of strings từ string với con trỏ i bắt đầu từ 2, \n",
    "  + kiểm tra xem s[i] có bắt đầu bằng string kết quả không, nếu không thì lướt qua, nếu có thì string kết quả bây giờ là string này.\n",
    "  + Vậy nếu trường hợp có nhiều kết quả làm sao xét tới smallest lexicographical order được đây?\n",
    "   -> Làm sao biết là có nhiều hơn kết quả ?. Nếu duyệt hết mảng , string kết quả sẽ trả ra là gì?\n",
    "  \n"
   ]
  },
  {
   "cell_type": "code",
   "execution_count": 2,
   "id": "9e0bf570",
   "metadata": {},
   "outputs": [],
   "source": [
    "def longestWord(words):\n",
    "    # Bước 1: Sắp xếp từ điển\n",
    "    words.sort()\n",
    "    # Bước 2: Dùng set để lưu từ có thể xây được\n",
    "    built = set([\"\"])\n",
    "    res = \"\"\n",
    "\n",
    "    # Bước 3: Duyệt qua từng từ trong words\n",
    "    for word in words:\n",
    "        if word[:-1] in built:\n",
    "            built.add(word)\n",
    "            if len(word) > len(res) or (len(word) == len(s) and word < res) :\n",
    "                res = word\n",
    "            \n",
    "    return res\n",
    "\n"
   ]
  }
 ],
 "metadata": {
  "kernelspec": {
   "display_name": "Python 3",
   "language": "python",
   "name": "python3"
  },
  "language_info": {
   "codemirror_mode": {
    "name": "ipython",
    "version": 3
   },
   "file_extension": ".py",
   "mimetype": "text/x-python",
   "name": "python",
   "nbconvert_exporter": "python",
   "pygments_lexer": "ipython3",
   "version": "3.12.0"
  }
 },
 "nbformat": 4,
 "nbformat_minor": 5
}
