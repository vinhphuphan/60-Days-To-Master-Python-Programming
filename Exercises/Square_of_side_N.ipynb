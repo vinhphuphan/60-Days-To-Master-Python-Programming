{
 "cells": [
  {
   "cell_type": "markdown",
   "id": "389f7984",
   "metadata": {},
   "source": [
    "#### Square of side 'N'\n",
    "\n",
    "**Problem Description** : You are given an integer n. Your task is to return a square pattern of size n x n made up of the character '*', represented as a list of strings.\n",
    "\n",
    "##### 📌 **Phân tích vấn đề**\n",
    "\n",
    "**Input**: n (int): The size of the square (number of rows and columns).\n",
    "\n",
    "\n",
    "**Output**: A list of strings where each string is a row of n characters.\n",
    "\n",
    "\n",
    "**Example**:\n",
    "\n",
    "Input: 3\n",
    "Output: ['*** ' , '*** ' , '***']\n",
    " \n",
    "Input: 5\n",
    "Output: ['***** ', '***** ', '***** ', '***** ', '***** ']\n",
    "\n",
    "##### 📌 **Chia nhỏ bài toán (Break down)**\n",
    "\n",
    "- Lấy input\n",
    "- Tạo list có n phần tử\n",
    "- mỗi phần tử sẽ có n dấu * (theo kiểu string).\n",
    "- Trả lại list kết quả.\n",
    "\n",
    "##### 📌 **Pseudo-code**\n",
    "\n",
    "- Tạo 1 list rỗng\n",
    "- Sau đó chạy vòng lặp để thêm n chuỗi có n dấu * vào list rỗng đó\n",
    "- Trả về list kết quả"
   ]
  },
  {
   "cell_type": "code",
   "execution_count": null,
   "id": "554da774",
   "metadata": {},
   "outputs": [],
   "source": [
    "def generate_square(n):\n",
    "    \"\"\"\n",
    "    Function to return a square pattern of '*' of side n as a list of strings.\n",
    "    \n",
    "    Parameters:\n",
    "    n (int): The size of the square.\n",
    "    \n",
    "    Returns:\n",
    "    list: A list of strings where each string represents a row of the square.\n",
    "    \"\"\"\n",
    "    # Your code here\n",
    "    # result = []\n",
    "\n",
    "    # for i in range(n):\n",
    "    #     string_example = \"*\"*n\n",
    "    #     result.append(string_example)\n",
    "\n",
    "\n",
    "    return ['*' * n for _ in range(n)]\n"
   ]
  }
 ],
 "metadata": {
  "language_info": {
   "name": "python"
  }
 },
 "nbformat": 4,
 "nbformat_minor": 5
}
