{
 "cells": [
  {
   "cell_type": "markdown",
   "id": "a73cb492",
   "metadata": {},
   "source": [
    "### 📌 **`map()` là gì?**\n",
    "- Dùng để **áp dụng 1 hàm cho từng phần tử** trong 1 iterable (list, tuple, v.v)."
   ]
  },
  {
   "cell_type": "markdown",
   "id": "4377a053",
   "metadata": {},
   "source": [
    "### 🧠 **Cú pháp:**\n",
    "```python\n",
    "map(hàm, iterable)\n",
    "```\n",
    "> Trả về **map object** (có thể ép thành list)"
   ]
  },
  {
   "cell_type": "markdown",
   "id": "0d235361",
   "metadata": {},
   "source": [
    "### ✅ **Ví dụ:**"
   ]
  },
  {
   "cell_type": "code",
   "execution_count": null,
   "id": "161d1554",
   "metadata": {},
   "outputs": [],
   "source": [
    "list(map(lambda x: x*2, [1, 2, 3]))  \n",
    "# 👉 [2, 4, 6]"
   ]
  },
  {
   "cell_type": "markdown",
   "id": "91ce0629",
   "metadata": {},
   "source": [
    "### 📋 **Ghi nhớ nhanh:**\n",
    "\n",
    "✅ `map = vòng lặp + hàm` gọn hơn"
   ]
  },
  {
   "cell_type": "markdown",
   "id": "ff7df0d1",
   "metadata": {},
   "source": [
    "### 🔁 **So sánh với vòng lặp:**"
   ]
  },
  {
   "cell_type": "code",
   "execution_count": 1,
   "id": "51f289ab",
   "metadata": {},
   "outputs": [],
   "source": [
    "# Dùng map\n",
    "result = list(map(str.upper, ['a', 'b', 'c']))\n",
    "\n",
    "# Tương đương với\n",
    "result = [x.upper() for x in ['a', 'b', 'c']]"
   ]
  },
  {
   "cell_type": "markdown",
   "id": "234bb2d0",
   "metadata": {},
   "source": [
    "### 🧠 **Bài toán:**\n",
    "Bạn có danh sách điểm số học sinh dưới dạng chuỗi, mỗi chuỗi là `\"tên:điểm\"`. Hãy:\n",
    "1. Tách tên và điểm.\n",
    "2. Chuyển điểm sang số (`float`).\n",
    "3. Tăng điểm lên 10% nếu điểm < 5.\n",
    "4. Trả về danh sách mới dạng tuple: `(tên, điểm_mới)`"
   ]
  },
  {
   "cell_type": "markdown",
   "id": "9d0d713e",
   "metadata": {},
   "source": [
    "### ✅ **Dữ liệu đầu vào:**"
   ]
  },
  {
   "cell_type": "code",
   "execution_count": 2,
   "id": "bf1b2f6d",
   "metadata": {},
   "outputs": [],
   "source": [
    "students = [\n",
    "    \"An:4.0\",\n",
    "    \"Bình:7.5\",\n",
    "    \"Cường:3.0\",\n",
    "    \"Duyên:8.0\"\n",
    "]"
   ]
  },
  {
   "cell_type": "markdown",
   "id": "e1c1df69",
   "metadata": {},
   "source": [
    "### ✅ **Giải bằng `map()`**:"
   ]
  },
  {
   "cell_type": "code",
   "execution_count": null,
   "id": "9d7d8a2c",
   "metadata": {},
   "outputs": [
    {
     "name": "stdout",
     "output_type": "stream",
     "text": [
      "[('An', 4.4), ('Bình', 7.5), ('Cường', 3.3), ('Duyên', 8.0)]\n"
     ]
    }
   ],
   "source": [
    "def process_student(s):\n",
    "    name, score = s.split(\":\")\n",
    "    score = float(score)\n",
    "    if score < 5:\n",
    "        score *= 1.1  # tăng 10%\n",
    "    return (name, round(score, 2))\n",
    "\n",
    "result = list(map(process_student, students))\n",
    "\n",
    "print(result)\n",
    "# 👉 [('An', 4.4), ('Bình', 7.5), ('Cường', 3.3), ('Duyên', 8.0)]"
   ]
  },
  {
   "cell_type": "markdown",
   "id": "eeb46716",
   "metadata": {},
   "source": [
    "\n",
    "### 🎯 **Tóm gọn:**\n",
    "- `map()` giúp **áp dụng nhanh một hàm xử lý** cho danh sách.\n",
    "- Gọn hơn, sạch hơn so với `for` truyền thống."
   ]
  }
 ],
 "metadata": {
  "kernelspec": {
   "display_name": "Python 3",
   "language": "python",
   "name": "python3"
  },
  "language_info": {
   "codemirror_mode": {
    "name": "ipython",
    "version": 3
   },
   "file_extension": ".py",
   "mimetype": "text/x-python",
   "name": "python",
   "nbconvert_exporter": "python",
   "pygments_lexer": "ipython3",
   "version": "3.12.0"
  }
 },
 "nbformat": 4,
 "nbformat_minor": 5
}
