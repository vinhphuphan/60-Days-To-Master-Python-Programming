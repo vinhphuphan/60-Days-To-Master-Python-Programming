{
 "cells": [
  {
   "cell_type": "markdown",
   "id": "9d402bf3",
   "metadata": {},
   "source": [
    "# Python Basics\n",
    "This notebook covers essential Python theory and examples."
   ]
  },
  {
   "cell_type": "markdown",
   "id": "1614c39f",
   "metadata": {},
   "source": [
    "## 1. Variables and Data Types\n",
    "Python supports several data types including integers, floats, strings, and booleans."
   ]
  },
  {
   "cell_type": "code",
   "execution_count": 1,
   "id": "7e373f32",
   "metadata": {},
   "outputs": [
    {
     "name": "stdout",
     "output_type": "stream",
     "text": [
      "<class 'int'> <class 'float'> <class 'str'> <class 'bool'>\n"
     ]
    }
   ],
   "source": [
    "# Examples\n",
    "x = 10        # Integer\n",
    "y = 3.14      # Float\n",
    "name = \"Alice\"  # String\n",
    "is_valid = True  # Boolean\n",
    "\n",
    "print(type(x), type(y), type(name), type(is_valid))"
   ]
  },
  {
   "cell_type": "markdown",
   "id": "d898d8a2",
   "metadata": {},
   "source": [
    "## 2. Control Flow\n",
    "Control flow tools include if-else statements and loops (for, while)."
   ]
  },
  {
   "cell_type": "code",
   "execution_count": null,
   "id": "b350d3dd",
   "metadata": {},
   "outputs": [],
   "source": [
    "# if-else\n",
    "x = 10\n",
    "if x > 5:\n",
    "    print(\"x is greater than 5\")\n",
    "else:\n",
    "    print(\"x is 5 or less\")\n",
    "\n",
    "# for loop\n",
    "for i in range(5):\n",
    "    print(\"i:\", i)\n",
    "\n",
    "# while loop\n",
    "n = 0\n",
    "while n < 3:\n",
    "    print(\"n:\", n)\n",
    "    n += 1"
   ]
  },
  {
   "cell_type": "markdown",
   "id": "d76bb217",
   "metadata": {},
   "source": [
    "## 3. Functions\n",
    "Functions help organize code into reusable blocks."
   ]
  },
  {
   "cell_type": "code",
   "execution_count": null,
   "id": "68555b41",
   "metadata": {},
   "outputs": [],
   "source": [
    "def greet(name):\n",
    "    return f\"Hello, {name}!\"\n",
    "\n",
    "print(greet(\"Alice\"))"
   ]
  },
  {
   "cell_type": "markdown",
   "id": "e577be89",
   "metadata": {},
   "source": [
    "## 4. Data Structures\n",
    "Python provides built-in structures like lists, tuples, sets, and dictionaries."
   ]
  },
  {
   "cell_type": "code",
   "execution_count": null,
   "id": "263cb0db",
   "metadata": {},
   "outputs": [],
   "source": [
    "# List\n",
    "fruits = [\"apple\", \"banana\", \"cherry\"]\n",
    "fruits.append(\"orange\")\n",
    "\n",
    "# Tuple\n",
    "coordinates = (10, 20)\n",
    "\n",
    "# Set\n",
    "unique_numbers = {1, 2, 3, 3}\n",
    "\n",
    "# Dictionary\n",
    "person = {\"name\": \"Alice\", \"age\": 25}\n",
    "\n",
    "print(fruits)\n",
    "print(coordinates)\n",
    "print(unique_numbers)\n",
    "print(person)"
   ]
  },
  {
   "cell_type": "markdown",
   "id": "1e236a88",
   "metadata": {},
   "source": [
    "## 5. Importing Modules\n",
    "Use the `import` statement to use standard and external libraries."
   ]
  },
  {
   "cell_type": "code",
   "execution_count": null,
   "id": "bc7c0eed",
   "metadata": {},
   "outputs": [],
   "source": [
    "import math\n",
    "print(math.sqrt(16))\n",
    "\n",
    "from datetime import datetime\n",
    "print(datetime.now())"
   ]
  },
  {
   "cell_type": "markdown",
   "id": "c65a66ae",
   "metadata": {},
   "source": [
    "## 6. File I/O\n",
    "Reading from and writing to files is simple with Python's built-in functions."
   ]
  },
  {
   "cell_type": "code",
   "execution_count": null,
   "id": "47eb80da",
   "metadata": {},
   "outputs": [],
   "source": [
    "# Write to file\n",
    "with open(\"example.txt\", \"w\") as f:\n",
    "    f.write(\"Hello, world!\")\n",
    "\n",
    "# Read from file\n",
    "with open(\"example.txt\", \"r\") as f:\n",
    "    content = f.read()\n",
    "    print(content)"
   ]
  },
  {
   "cell_type": "markdown",
   "id": "c39621d1",
   "metadata": {},
   "source": [
    "## 7. Error Handling\n",
    "Use try-except blocks to handle exceptions gracefully."
   ]
  },
  {
   "cell_type": "code",
   "execution_count": null,
   "id": "50de44a8",
   "metadata": {},
   "outputs": [],
   "source": [
    "try:\n",
    "    result = 10 / 0\n",
    "except ZeroDivisionError:\n",
    "    print(\"Cannot divide by zero.\")"
   ]
  },
  {
   "cell_type": "markdown",
   "id": "bef38651",
   "metadata": {},
   "source": [
    "## 8. List Comprehensions\n",
    "A concise way to create lists."
   ]
  },
  {
   "cell_type": "code",
   "execution_count": 1,
   "id": "24df175d",
   "metadata": {},
   "outputs": [
    {
     "name": "stdout",
     "output_type": "stream",
     "text": [
      "[0, 1, 4, 9, 16]\n"
     ]
    }
   ],
   "source": [
    "squares = [x**2 for x in range(5)]\n",
    "print(squares)"
   ]
  }
 ],
 "metadata": {
  "kernelspec": {
   "display_name": "Python 3",
   "language": "python",
   "name": "python3"
  },
  "language_info": {
   "codemirror_mode": {
    "name": "ipython",
    "version": 3
   },
   "file_extension": ".py",
   "mimetype": "text/x-python",
   "name": "python",
   "nbconvert_exporter": "python",
   "pygments_lexer": "ipython3",
   "version": "3.12.0"
  }
 },
 "nbformat": 4,
 "nbformat_minor": 5
}
