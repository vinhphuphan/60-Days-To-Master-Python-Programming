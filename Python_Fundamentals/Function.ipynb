{
 "cells": [
  {
   "cell_type": "markdown",
   "id": "540c133a",
   "metadata": {},
   "source": [
    "\n",
    "## Hàm (Functions) trong Python: Từ Cơ Bản đến Nâng Cao\n"
   ]
  },
  {
   "cell_type": "markdown",
   "id": "9448f714",
   "metadata": {},
   "source": [
    "### 1. Giới thiệu về Hàm\n",
    "**Hàm là một khối mã:**\n",
    "- Được đặt tên\n",
    "- Thực hiện một nhiệm vụ cụ thể\n",
    "- Có thể tái sử dụng nhiều lần"
   ]
  },
  {
   "cell_type": "markdown",
   "id": "340ded49",
   "metadata": {},
   "source": [
    "**Lợi ích:**\n",
    "- Giảm code trùng lặp\n",
    "- Dễ bảo trì và nâng cấp\n",
    "- Tăng tính module hóa"
   ]
  },
  {
   "cell_type": "markdown",
   "id": "5f404979",
   "metadata": {},
   "source": [
    "### 2. Hàm Cơ Bản\n",
    "#### 2.1. Hàm không tham số\n",
    "```python\n",
    "def ten_ham():\n",
    "    # code"
   ]
  },
  {
   "cell_type": "code",
   "execution_count": 1,
   "id": "7b73922f",
   "metadata": {},
   "outputs": [
    {
     "name": "stdout",
     "output_type": "stream",
     "text": [
      "Chào mừng đến với Python!\n",
      "Hãy bắt đầu học hàm!\n"
     ]
    }
   ],
   "source": [
    "def in_loi_chao():\n",
    "    print(\"Chào mừng đến với Python!\")\n",
    "    print(\"Hãy bắt đầu học hàm!\")\n",
    "    \n",
    "in_loi_chao()"
   ]
  },
  {
   "cell_type": "markdown",
   "id": "c36903d0",
   "metadata": {},
   "source": [
    "#### 2.2. Hàm có tham số\n",
    "```python\n",
    "def ten_ham(param1, param2):\n",
    "    # code"
   ]
  },
  {
   "cell_type": "code",
   "execution_count": 2,
   "id": "c3bc07c0",
   "metadata": {},
   "outputs": [
    {
     "name": "stdout",
     "output_type": "stream",
     "text": [
      "Cước phí: 180,000 VND\n",
      "Cước phí cao cấp: 240,000 VND\n"
     ]
    }
   ],
   "source": [
    "def tinh_cuoc_taxi(km, gia_moi_km=15000):\n",
    "    \"\"\"Tính cước taxi dựa trên số km và giá/km\"\"\"\n",
    "    return km * gia_moi_km\n",
    "\n",
    "print(f\"Cước phí: {tinh_cuoc_taxi(12):,} VND\")\n",
    "print(f\"Cước phí cao cấp: {tinh_cuoc_taxi(12, 20000):,} VND\")"
   ]
  },
  {
   "cell_type": "markdown",
   "id": "b81ba264",
   "metadata": {},
   "source": [
    "#### 2.3. Giá trị trả về (return)\n",
    "Hàm có thể trả về nhiều giá trị cùng lúc"
   ]
  },
  {
   "cell_type": "code",
   "execution_count": 3,
   "id": "1fb6200d",
   "metadata": {},
   "outputs": [
    {
     "name": "stdout",
     "output_type": "stream",
     "text": [
      "8 + 5 = 13\n",
      "8 - 5 = 3\n",
      "8 × 5 = 40\n"
     ]
    }
   ],
   "source": [
    "def tinh_toan(a, b):\n",
    "    return a + b, a - b, a * b\n",
    "\n",
    "cong, tru, nhan = tinh_toan(8, 5)\n",
    "print(f\"8 + 5 = {cong}\")\n",
    "print(f\"8 - 5 = {tru}\")\n",
    "print(f\"8 × 5 = {nhan}\")"
   ]
  },
  {
   "cell_type": "markdown",
   "id": "7197f30f",
   "metadata": {},
   "source": [
    "### 3. Hàm Nâng Cao\n",
    "\n",
    "#### 3.1. Tham số linh hoạt\n",
    "Sử dụng *args (tuple) và **kwargs (dict)"
   ]
  },
  {
   "cell_type": "code",
   "execution_count": 4,
   "id": "cca22f89",
   "metadata": {},
   "outputs": [
    {
     "name": "stdout",
     "output_type": "stream",
     "text": [
      "\n",
      "Thông tin cá nhân:\n",
      "Chi tiết bắt buộc:\n",
      "1. Nguyễn Văn A\n",
      "2. Hà Nội\n",
      "\n",
      "Thông tin bổ sung:\n",
      "- email: a@example.com\n",
      "- dien_thoai: 0123456789\n"
     ]
    }
   ],
   "source": [
    "def tao_ho_so(*args, **kwargs):\n",
    "    print(\"\\nThông tin cá nhân:\")\n",
    "    print(\"Chi tiết bắt buộc:\")\n",
    "    for i, item in enumerate(args, 1):\n",
    "        print(f\"{i}. {item}\")\n",
    "    \n",
    "    print(\"\\nThông tin bổ sung:\")\n",
    "    for key, value in kwargs.items():\n",
    "        print(f\"- {key}: {value}\")\n",
    "\n",
    "tao_ho_so(\"Nguyễn Văn A\", \"Hà Nội\", \n",
    "          email=\"a@example.com\", dien_thoai=\"0123456789\")"
   ]
  },
  {
   "cell_type": "markdown",
   "id": "86008705",
   "metadata": {},
   "source": [
    "#### 3.2. Hàm Lambda\n",
    "Hàm ẩn danh 1 dòng\n"
   ]
  },
  {
   "cell_type": "code",
   "execution_count": 5,
   "id": "4bc1d714",
   "metadata": {},
   "outputs": [
    {
     "name": "stdout",
     "output_type": "stream",
     "text": [
      "Sản phẩm theo giá:\n",
      "- Xiaomi: $400\n",
      "- Samsung: $800\n",
      "- iPhone: $1200\n"
     ]
    }
   ],
   "source": [
    "# Sắp xếp từ điển theo giá trị\n",
    "dien_thoai = {'iPhone': 1200, 'Samsung': 800, 'Xiaomi': 400}\n",
    "sorted_price = sorted(dien_thoai.items(), key=lambda x: x[1])\n",
    "\n",
    "print(\"Sản phẩm theo giá:\")\n",
    "for name, price in sorted_price:\n",
    "    print(f\"- {name}: ${price}\")"
   ]
  },
  {
   "cell_type": "markdown",
   "id": "13a55717",
   "metadata": {},
   "source": [
    "#### 3.3. Đệ quy (Recursion)"
   ]
  },
  {
   "cell_type": "code",
   "execution_count": 6,
   "id": "5e010841",
   "metadata": {},
   "outputs": [
    {
     "name": "stdout",
     "output_type": "stream",
     "text": [
      "Dãy Fibonacci 10 số đầu:\n",
      "0 1 1 2 3 5 8 13 21 34 "
     ]
    }
   ],
   "source": [
    "def fibonacci(n):\n",
    "    \"\"\"Tính số Fibonacci thứ n\"\"\"\n",
    "    if n <= 1:\n",
    "        return n\n",
    "    return fibonacci(n-1) + fibonacci(n-2)\n",
    "\n",
    "print(\"Dãy Fibonacci 10 số đầu:\")\n",
    "for i in range(10):\n",
    "    print(fibonacci(i), end=\" \")"
   ]
  },
  {
   "cell_type": "markdown",
   "id": "21a6568d",
   "metadata": {},
   "source": [
    "#### 3.4. Decorator\n",
    "Thêm chức năng cho hàm có sẵn"
   ]
  },
  {
   "cell_type": "code",
   "execution_count": 7,
   "id": "04ed37fa",
   "metadata": {},
   "outputs": [
    {
     "name": "stdout",
     "output_type": "stream",
     "text": [
      "⏱️ Thời gian thực thi: 0.0000 giây\n",
      "⏱️ Thời gian thực thi: 0.0000 giây\n",
      "⏱️ Thời gian thực thi: 0.0000 giây\n",
      "⏱️ Thời gian thực thi: 0.0000 giây\n",
      "⏱️ Thời gian thực thi: 0.0000 giây\n",
      "⏱️ Thời gian thực thi: 0.0000 giây\n",
      "\n",
      "Kết quả 5! = 120\n"
     ]
    }
   ],
   "source": [
    "def kiem_tra_thoi_gian(func):\n",
    "    \"\"\"Đo thời gian thực thi hàm\"\"\"\n",
    "    import time\n",
    "    def wrapper(*args, **kwargs):\n",
    "        start = time.time()\n",
    "        result = func(*args, **kwargs)\n",
    "        end = time.time()\n",
    "        print(f\"⏱️ Thời gian thực thi: {end - start:.4f} giây\")\n",
    "        return result\n",
    "    return wrapper\n",
    "\n",
    "@kiem_tra_thoi_gian\n",
    "def tinh_giai_thua(n):\n",
    "    \"\"\"Tính giai thừa với đệ quy\"\"\"\n",
    "    return 1 if n == 0 else n * tinh_giai_thua(n-1)\n",
    "\n",
    "print(\"\\nKết quả 5! =\", tinh_giai_thua(5))"
   ]
  },
  {
   "cell_type": "markdown",
   "id": "4669850e",
   "metadata": {},
   "source": [
    "#### 3.5. Generator\n",
    "Tạo iterator với yield"
   ]
  },
  {
   "cell_type": "code",
   "execution_count": 8,
   "id": "95fea838",
   "metadata": {},
   "outputs": [],
   "source": [
    "def doc_file_csv(filename):\n",
    "    \"\"\"Generator đọc file CSV từng dòng\"\"\"\n",
    "    with open(filename, 'r', encoding='utf-8') as f:\n",
    "        for line in f:\n",
    "            yield line.strip().split(',')"
   ]
  },
  {
   "cell_type": "markdown",
   "id": "d9102f87",
   "metadata": {},
   "source": [
    "### 4. Best Practices"
   ]
  },
  {
   "cell_type": "markdown",
   "id": "5a5410cf",
   "metadata": {},
   "source": [
    "#### 4.1. Type Hints\n",
    "Python 3.5+ hỗ trợ gợi ý kiểu dữ liệu\n"
   ]
  },
  {
   "cell_type": "code",
   "execution_count": 9,
   "id": "ab58c26c",
   "metadata": {},
   "outputs": [
    {
     "name": "stdout",
     "output_type": "stream",
     "text": [
      "BMI: 22.5\n"
     ]
    }
   ],
   "source": [
    "def tinh_bmi(can_nang: float, chieu_cao: float) -> float:\n",
    "    \"\"\"Tính chỉ số BMI\"\"\"\n",
    "    return can_nang / (chieu_cao ** 2)\n",
    "\n",
    "print(f\"BMI: {tinh_bmi(65, 1.7):.1f}\")"
   ]
  },
  {
   "cell_type": "markdown",
   "id": "1dc3a179",
   "metadata": {},
   "source": [
    "#### 4.2. Docstring\n",
    "Chuẩn hóa documentation với PEP 257"
   ]
  },
  {
   "cell_type": "code",
   "execution_count": 10,
   "id": "29777f0c",
   "metadata": {},
   "outputs": [
    {
     "name": "stdout",
     "output_type": "stream",
     "text": [
      "Help on function phan_chia in module __main__:\n",
      "\n",
      "phan_chia(a: float, b: float) -> float\n",
      "    Thực hiện phép chia hai số\n",
      "\n",
      "    Args:\n",
      "        a (float): Số bị chia\n",
      "        b (float): Số chia\n",
      "\n",
      "    Returns:\n",
      "        float: Kết quả phép chia\n",
      "\n",
      "    Raises:\n",
      "        ValueError: Nếu b bằng 0\n",
      "\n"
     ]
    }
   ],
   "source": [
    "def phan_chia(a: float, b: float) -> float:\n",
    "    \"\"\"\n",
    "    Thực hiện phép chia hai số\n",
    "    \n",
    "    Args:\n",
    "        a (float): Số bị chia\n",
    "        b (float): Số chia\n",
    "    \n",
    "    Returns:\n",
    "        float: Kết quả phép chia\n",
    "    \n",
    "    Raises:\n",
    "        ValueError: Nếu b bằng 0\n",
    "    \"\"\"\n",
    "    if b == 0:\n",
    "        raise ValueError(\"Không thể chia cho 0\")\n",
    "    return a / b\n",
    "\n",
    "# Hiển thị docstring\n",
    "help(phan_chia)"
   ]
  },
  {
   "cell_type": "markdown",
   "id": "aad959ab",
   "metadata": {},
   "source": [
    "### 5. Bài tập thực hành"
   ]
  },
  {
   "cell_type": "markdown",
   "id": "aa68efc5",
   "metadata": {},
   "source": [
    "#### Bài 1: Viết hàm kiểm tra số nguyên tố"
   ]
  },
  {
   "cell_type": "code",
   "execution_count": 12,
   "id": "960b3188",
   "metadata": {},
   "outputs": [
    {
     "name": "stdout",
     "output_type": "stream",
     "text": [
      "Kết quả kiểm tra:\n",
      "2: Số nguyên tố\n",
      "3: Số nguyên tố\n",
      "4: Không phải\n",
      "7: Số nguyên tố\n",
      "9: Không phải\n",
      "15: Không phải\n",
      "17: Số nguyên tố\n",
      "25: Không phải\n",
      "1: Không phải\n",
      "0: Không phải\n",
      "-5: Không phải\n",
      "Help on bool object:\n",
      "\n",
      "class bool(int)\n",
      " |  bool(x) -> bool\n",
      " |\n",
      " |  Returns True when the argument x is true, False otherwise.\n",
      " |  The builtins True and False are the only two instances of the class bool.\n",
      " |  The class bool is a subclass of the class int, and cannot be subclassed.\n",
      " |\n",
      " |  Method resolution order:\n",
      " |      bool\n",
      " |      int\n",
      " |      object\n",
      " |\n",
      " |  Methods defined here:\n",
      " |\n",
      " |  __and__(self, value, /)\n",
      " |      Return self&value.\n",
      " |\n",
      " |  __invert__(self, /)\n",
      " |      ~self\n",
      " |\n",
      " |  __or__(self, value, /)\n",
      " |      Return self|value.\n",
      " |\n",
      " |  __rand__(self, value, /)\n",
      " |      Return value&self.\n",
      " |\n",
      " |  __repr__(self, /)\n",
      " |      Return repr(self).\n",
      " |\n",
      " |  __ror__(self, value, /)\n",
      " |      Return value|self.\n",
      " |\n",
      " |  __rxor__(self, value, /)\n",
      " |      Return value^self.\n",
      " |\n",
      " |  __xor__(self, value, /)\n",
      " |      Return self^value.\n",
      " |\n",
      " |  ----------------------------------------------------------------------\n",
      " |  Static methods defined here:\n",
      " |\n",
      " |  __new__(*args, **kwargs) from builtins.type\n",
      " |      Create and return a new object.  See help(type) for accurate signature.\n",
      " |\n",
      " |  ----------------------------------------------------------------------\n",
      " |  Methods inherited from int:\n",
      " |\n",
      " |  __abs__(self, /)\n",
      " |      abs(self)\n",
      " |\n",
      " |  __add__(self, value, /)\n",
      " |      Return self+value.\n",
      " |\n",
      " |  __bool__(self, /)\n",
      " |      True if self else False\n",
      " |\n",
      " |  __ceil__(...)\n",
      " |      Ceiling of an Integral returns itself.\n",
      " |\n",
      " |  __divmod__(self, value, /)\n",
      " |      Return divmod(self, value).\n",
      " |\n",
      " |  __eq__(self, value, /)\n",
      " |      Return self==value.\n",
      " |\n",
      " |  __float__(self, /)\n",
      " |      float(self)\n",
      " |\n",
      " |  __floor__(...)\n",
      " |      Flooring an Integral returns itself.\n",
      " |\n",
      " |  __floordiv__(self, value, /)\n",
      " |      Return self//value.\n",
      " |\n",
      " |  __format__(self, format_spec, /)\n",
      " |      Convert to a string according to format_spec.\n",
      " |\n",
      " |  __ge__(self, value, /)\n",
      " |      Return self>=value.\n",
      " |\n",
      " |  __getattribute__(self, name, /)\n",
      " |      Return getattr(self, name).\n",
      " |\n",
      " |  __getnewargs__(self, /)\n",
      " |\n",
      " |  __gt__(self, value, /)\n",
      " |      Return self>value.\n",
      " |\n",
      " |  __hash__(self, /)\n",
      " |      Return hash(self).\n",
      " |\n",
      " |  __index__(self, /)\n",
      " |      Return self converted to an integer, if self is suitable for use as an index into a list.\n",
      " |\n",
      " |  __int__(self, /)\n",
      " |      int(self)\n",
      " |\n",
      " |  __le__(self, value, /)\n",
      " |      Return self<=value.\n",
      " |\n",
      " |  __lshift__(self, value, /)\n",
      " |      Return self<<value.\n",
      " |\n",
      " |  __lt__(self, value, /)\n",
      " |      Return self<value.\n",
      " |\n",
      " |  __mod__(self, value, /)\n",
      " |      Return self%value.\n",
      " |\n",
      " |  __mul__(self, value, /)\n",
      " |      Return self*value.\n",
      " |\n",
      " |  __ne__(self, value, /)\n",
      " |      Return self!=value.\n",
      " |\n",
      " |  __neg__(self, /)\n",
      " |      -self\n",
      " |\n",
      " |  __pos__(self, /)\n",
      " |      +self\n",
      " |\n",
      " |  __pow__(self, value, mod=None, /)\n",
      " |      Return pow(self, value, mod).\n",
      " |\n",
      " |  __radd__(self, value, /)\n",
      " |      Return value+self.\n",
      " |\n",
      " |  __rdivmod__(self, value, /)\n",
      " |      Return divmod(value, self).\n",
      " |\n",
      " |  __rfloordiv__(self, value, /)\n",
      " |      Return value//self.\n",
      " |\n",
      " |  __rlshift__(self, value, /)\n",
      " |      Return value<<self.\n",
      " |\n",
      " |  __rmod__(self, value, /)\n",
      " |      Return value%self.\n",
      " |\n",
      " |  __rmul__(self, value, /)\n",
      " |      Return value*self.\n",
      " |\n",
      " |  __round__(...)\n",
      " |      Rounding an Integral returns itself.\n",
      " |\n",
      " |      Rounding with an ndigits argument also returns an integer.\n",
      " |\n",
      " |  __rpow__(self, value, mod=None, /)\n",
      " |      Return pow(value, self, mod).\n",
      " |\n",
      " |  __rrshift__(self, value, /)\n",
      " |      Return value>>self.\n",
      " |\n",
      " |  __rshift__(self, value, /)\n",
      " |      Return self>>value.\n",
      " |\n",
      " |  __rsub__(self, value, /)\n",
      " |      Return value-self.\n",
      " |\n",
      " |  __rtruediv__(self, value, /)\n",
      " |      Return value/self.\n",
      " |\n",
      " |  __sizeof__(self, /)\n",
      " |      Returns size in memory, in bytes.\n",
      " |\n",
      " |  __sub__(self, value, /)\n",
      " |      Return self-value.\n",
      " |\n",
      " |  __truediv__(self, value, /)\n",
      " |      Return self/value.\n",
      " |\n",
      " |  __trunc__(...)\n",
      " |      Truncating an Integral returns itself.\n",
      " |\n",
      " |  as_integer_ratio(self, /)\n",
      " |      Return a pair of integers, whose ratio is equal to the original int.\n",
      " |\n",
      " |      The ratio is in lowest terms and has a positive denominator.\n",
      " |\n",
      " |      >>> (10).as_integer_ratio()\n",
      " |      (10, 1)\n",
      " |      >>> (-10).as_integer_ratio()\n",
      " |      (-10, 1)\n",
      " |      >>> (0).as_integer_ratio()\n",
      " |      (0, 1)\n",
      " |\n",
      " |  bit_count(self, /)\n",
      " |      Number of ones in the binary representation of the absolute value of self.\n",
      " |\n",
      " |      Also known as the population count.\n",
      " |\n",
      " |      >>> bin(13)\n",
      " |      '0b1101'\n",
      " |      >>> (13).bit_count()\n",
      " |      3\n",
      " |\n",
      " |  bit_length(self, /)\n",
      " |      Number of bits necessary to represent self in binary.\n",
      " |\n",
      " |      >>> bin(37)\n",
      " |      '0b100101'\n",
      " |      >>> (37).bit_length()\n",
      " |      6\n",
      " |\n",
      " |  conjugate(...)\n",
      " |      Returns self, the complex conjugate of any int.\n",
      " |\n",
      " |  is_integer(self, /)\n",
      " |      Returns True. Exists for duck type compatibility with float.is_integer.\n",
      " |\n",
      " |  to_bytes(self, /, length=1, byteorder='big', *, signed=False)\n",
      " |      Return an array of bytes representing an integer.\n",
      " |\n",
      " |      length\n",
      " |        Length of bytes object to use.  An OverflowError is raised if the\n",
      " |        integer is not representable with the given number of bytes.  Default\n",
      " |        is length 1.\n",
      " |      byteorder\n",
      " |        The byte order used to represent the integer.  If byteorder is 'big',\n",
      " |        the most significant byte is at the beginning of the byte array.  If\n",
      " |        byteorder is 'little', the most significant byte is at the end of the\n",
      " |        byte array.  To request the native byte order of the host system, use\n",
      " |        `sys.byteorder' as the byte order value.  Default is to use 'big'.\n",
      " |      signed\n",
      " |        Determines whether two's complement is used to represent the integer.\n",
      " |        If signed is False and a negative integer is given, an OverflowError\n",
      " |        is raised.\n",
      " |\n",
      " |  ----------------------------------------------------------------------\n",
      " |  Class methods inherited from int:\n",
      " |\n",
      " |  from_bytes(bytes, byteorder='big', *, signed=False) from builtins.type\n",
      " |      Return the integer represented by the given array of bytes.\n",
      " |\n",
      " |      bytes\n",
      " |        Holds the array of bytes to convert.  The argument must either\n",
      " |        support the buffer protocol or be an iterable object producing bytes.\n",
      " |        Bytes and bytearray are examples of built-in objects that support the\n",
      " |        buffer protocol.\n",
      " |      byteorder\n",
      " |        The byte order used to represent the integer.  If byteorder is 'big',\n",
      " |        the most significant byte is at the beginning of the byte array.  If\n",
      " |        byteorder is 'little', the most significant byte is at the end of the\n",
      " |        byte array.  To request the native byte order of the host system, use\n",
      " |        `sys.byteorder' as the byte order value.  Default is to use 'big'.\n",
      " |      signed\n",
      " |        Indicates whether two's complement is used to represent the integer.\n",
      " |\n",
      " |  ----------------------------------------------------------------------\n",
      " |  Data descriptors inherited from int:\n",
      " |\n",
      " |  denominator\n",
      " |      the denominator of a rational number in lowest terms\n",
      " |\n",
      " |  imag\n",
      " |      the imaginary part of a complex number\n",
      " |\n",
      " |  numerator\n",
      " |      the numerator of a rational number in lowest terms\n",
      " |\n",
      " |  real\n",
      " |      the real part of a complex number\n",
      "\n"
     ]
    }
   ],
   "source": [
    "import math\n",
    "\n",
    "def is_prime(n):\n",
    "    \"\"\"\n",
    "    Kiểm tra một số có phải là số nguyên tố\n",
    "    \n",
    "    Args:\n",
    "        n (int): Số cần kiểm tra\n",
    "    \n",
    "    Returns:\n",
    "        bool: True nếu là số nguyên tố, False nếu không\n",
    "    \n",
    "    Ví dụ:\n",
    "        >>> is_prime(2)\n",
    "        True\n",
    "        >>> is_prime(4)\n",
    "        False\n",
    "        >>> is_prime(17)\n",
    "        True\n",
    "    \"\"\"\n",
    "    if n <= 1:\n",
    "        return False\n",
    "    if n == 2:  # 2 là số nguyên tố chẵn duy nhất\n",
    "        return True\n",
    "    if n % 2 == 0:  # Loại bỏ các số chẵn\n",
    "        return False\n",
    "    \n",
    "    max_divisor = math.isqrt(n)  # Giới hạn kiểm tra đến căn bậc 2 của n\n",
    "    for d in range(3, max_divisor + 1, 2):  # Chỉ kiểm tra số lẻ\n",
    "        if n % d == 0:\n",
    "            return False\n",
    "    return True\n",
    "\n",
    "# Kiểm tra hàm với các trường hợp\n",
    "test_cases = [2, 3, 4, 7, 9, 15, 17, 25, 1, 0, -5]\n",
    "results = {num: is_prime(num) for num in test_cases}\n",
    "\n",
    "print(\"Kết quả kiểm tra:\")\n",
    "for num, is_prime in results.items():\n",
    "    print(f\"{num}: {'Số nguyên tố' if is_prime else 'Không phải'}\")\n",
    "\n",
    "help(is_prime);"
   ]
  }
 ],
 "metadata": {
  "kernelspec": {
   "display_name": "Python 3",
   "language": "python",
   "name": "python3"
  },
  "language_info": {
   "codemirror_mode": {
    "name": "ipython",
    "version": 3
   },
   "file_extension": ".py",
   "mimetype": "text/x-python",
   "name": "python",
   "nbconvert_exporter": "python",
   "pygments_lexer": "ipython3",
   "version": "3.12.0"
  }
 },
 "nbformat": 4,
 "nbformat_minor": 5
}
