{
 "cells": [
  {
   "cell_type": "markdown",
   "id": "3366a23d",
   "metadata": {},
   "source": [
    "### 📌 **Lambda Function là gì?**\n",
    "- Hàm **ẩn danh** (không tên), viết gọn, dùng cho các tác vụ nhỏ.\n",
    "- Cú pháp:  \n",
    "  ```python\n",
    "  lambda đối_số: biểu_thức"
   ]
  },
  {
   "cell_type": "markdown",
   "id": "f49648bc",
   "metadata": {},
   "source": [
    "### 📋 **Đặc điểm chính:**\n",
    "- **Gọn**: viết 1 dòng  \n",
    "- **Không có tên** (trừ khi gán cho biến)  \n",
    "- **Chỉ chứa 1 biểu thức** (không có nhiều dòng như `def`)\n",
    "\n",
    "### ✅ **Ví dụ:**"
   ]
  },
  {
   "cell_type": "code",
   "execution_count": 1,
   "id": "573a5ae4",
   "metadata": {},
   "outputs": [
    {
     "name": "stdout",
     "output_type": "stream",
     "text": [
      "10\n"
     ]
    }
   ],
   "source": [
    "f = lambda x: x * 2\n",
    "print(f(5))  # 👉 10"
   ]
  },
  {
   "cell_type": "markdown",
   "id": "46d0d757",
   "metadata": {},
   "source": [
    "### 🔧 **Dùng nhiều với hàm built-in**:"
   ]
  },
  {
   "cell_type": "code",
   "execution_count": 2,
   "id": "3a176d8e",
   "metadata": {},
   "outputs": [
    {
     "data": {
      "text/plain": [
       "[(1, 'a'), (2, 'b'), (3, 'c')]"
      ]
     },
     "execution_count": 2,
     "metadata": {},
     "output_type": "execute_result"
    }
   ],
   "source": [
    "# map\n",
    "list(map(lambda x: x*x, [1, 2, 3]))  # 👉 [1, 4, 9]\n",
    "\n",
    "# filter\n",
    "list(filter(lambda x: x > 2, [1, 2, 3]))  # 👉 [3]\n",
    "\n",
    "# sort\n",
    "sorted([(1, 'a'), (3, 'c'), (2, 'b')], key=lambda x: x[1])  \n",
    "# 👉 [(1, 'a'), (2, 'b'), (3, 'c')]"
   ]
  },
  {
   "cell_type": "markdown",
   "id": "000074f7",
   "metadata": {},
   "source": [
    "### 🧠 **Ghi nhớ nhanh:**\n",
    "> ✅ `lambda x: x + 1` = `def f(x): return x + 1`"
   ]
  }
 ],
 "metadata": {
  "kernelspec": {
   "display_name": "Python 3",
   "language": "python",
   "name": "python3"
  },
  "language_info": {
   "codemirror_mode": {
    "name": "ipython",
    "version": 3
   },
   "file_extension": ".py",
   "mimetype": "text/x-python",
   "name": "python",
   "nbconvert_exporter": "python",
   "pygments_lexer": "ipython3",
   "version": "3.12.0"
  }
 },
 "nbformat": 4,
 "nbformat_minor": 5
}
