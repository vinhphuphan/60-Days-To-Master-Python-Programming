{
 "cells": [
  {
   "cell_type": "markdown",
   "id": "c31629b7",
   "metadata": {},
   "source": [
    "#### 📌 **`filter()` là gì?**\n",
    "- Dùng để **lọc phần tử** trong một iterable theo điều kiện.\n",
    "\n",
    "---\n",
    "\n",
    "#### 🧠 **Cú pháp:**\n",
    "```python\n",
    "filter(hàm_điều_kiện, iterable)\n",
    "```\n",
    "\n",
    "Trả về **filter object**, cần ép thành `list()` để xem kết quả.\n"
   ]
  },
  {
   "cell_type": "markdown",
   "id": "5a11be0f",
   "metadata": {},
   "source": [
    "#### ✅ **Ví dụ:**"
   ]
  },
  {
   "cell_type": "code",
   "execution_count": 1,
   "id": "2fb6de18",
   "metadata": {},
   "outputs": [
    {
     "data": {
      "text/plain": [
       "[6, 8]"
      ]
     },
     "execution_count": 1,
     "metadata": {},
     "output_type": "execute_result"
    }
   ],
   "source": [
    "list(filter(lambda x: x > 5, [2, 6, 3, 8]))  \n",
    "# 👉 [6, 8]"
   ]
  },
  {
   "cell_type": "markdown",
   "id": "b7b76c87",
   "metadata": {},
   "source": [
    "#### 📋 **Ghi nhớ nhanh:**\n",
    "> ✅ `filter = vòng lặp + if` viết gọn hơn"
   ]
  },
  {
   "cell_type": "markdown",
   "id": "c88104f9",
   "metadata": {},
   "source": [
    "#### 🔁 **So sánh với list comprehension:**"
   ]
  },
  {
   "cell_type": "code",
   "execution_count": null,
   "id": "52834b6d",
   "metadata": {},
   "outputs": [
    {
     "data": {
      "text/plain": [
       "[2, 4]"
      ]
     },
     "execution_count": 2,
     "metadata": {},
     "output_type": "execute_result"
    }
   ],
   "source": [
    "# filter\n",
    "list(filter(lambda x: x % 2 == 0, [1, 2, 3, 4]))  \n",
    "\n",
    "# tương đương\n",
    "[x for x in [1, 2, 3, 4] if x % 2 == 0]"
   ]
  },
  {
   "cell_type": "markdown",
   "id": "8f0d8ba4",
   "metadata": {},
   "source": [
    "### 🧠 **Bài toán:**\n",
    "Bạn có danh sách học sinh dạng `[(tên, điểm)]`. Hãy lọc ra:\n",
    "- Những học sinh **rớt** (điểm < 5).\n",
    "- Sau đó in ra danh sách **tên học sinh rớt**."
   ]
  },
  {
   "cell_type": "markdown",
   "id": "117ff49e",
   "metadata": {},
   "source": [
    "#### ✅ **Dữ liệu đầu vào:**"
   ]
  },
  {
   "cell_type": "code",
   "execution_count": 4,
   "id": "0346177c",
   "metadata": {},
   "outputs": [],
   "source": [
    "students = [\n",
    "    (\"An\", 4.4),\n",
    "    (\"Bình\", 7.5),\n",
    "    (\"Cường\", 3.3),\n",
    "    (\"Duyên\", 8.0),\n",
    "    (\"Hà\", 2.9)\n",
    "]"
   ]
  },
  {
   "cell_type": "markdown",
   "id": "720038a7",
   "metadata": {},
   "source": [
    "#### ✅ **Giải bằng `filter()` + `map()`:**"
   ]
  },
  {
   "cell_type": "code",
   "execution_count": 6,
   "id": "b2a0a715",
   "metadata": {},
   "outputs": [
    {
     "name": "stdout",
     "output_type": "stream",
     "text": [
      "Học sinh rớt: ['An', 'Cường', 'Hà']\n"
     ]
    }
   ],
   "source": [
    "# Lọc học sinh rớt\n",
    "failed = filter(lambda s: s[1] < 5, students)\n",
    "\n",
    "# Lấy danh sách tên\n",
    "failed_names = list(map(lambda s: s[0], failed))\n",
    "\n",
    "print(\"Học sinh rớt:\", failed_names)\n",
    "# 👉 Học sinh rớt: ['An', 'Cường', 'Hà']"
   ]
  },
  {
   "cell_type": "markdown",
   "id": "387ec4d7",
   "metadata": {},
   "source": [
    "#### 🎯 **Tóm gọn:**\n",
    "- `filter()` để **chọn phần tử đúng điều kiện**\n",
    "- `map()` để **biến đổi phần tử** (ở đây: lấy tên)"
   ]
  }
 ],
 "metadata": {
  "kernelspec": {
   "display_name": "Python 3",
   "language": "python",
   "name": "python3"
  },
  "language_info": {
   "codemirror_mode": {
    "name": "ipython",
    "version": 3
   },
   "file_extension": ".py",
   "mimetype": "text/x-python",
   "name": "python",
   "nbconvert_exporter": "python",
   "pygments_lexer": "ipython3",
   "version": "3.12.0"
  }
 },
 "nbformat": 4,
 "nbformat_minor": 5
}
