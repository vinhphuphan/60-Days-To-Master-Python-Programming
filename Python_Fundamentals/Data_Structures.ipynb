{
 "cells": [
  {
   "cell_type": "markdown",
   "id": "8fac420d",
   "metadata": {},
   "source": [
    "# Python Data Structures\n",
    "This notebook covers basic to advanced data structures in Python with theory and code examples."
   ]
  },
  {
   "cell_type": "markdown",
   "id": "f2740fe3",
   "metadata": {},
   "source": [
    "## Lists\n",
    "A list is a collection which is ordered and changeable."
   ]
  },
  {
   "cell_type": "code",
   "execution_count": null,
   "id": "88df268e",
   "metadata": {},
   "outputs": [],
   "source": [
    "my_list = [1, 2, 3, 4]\n",
    "print(my_list)\n",
    "my_list.append(5)\n",
    "print(my_list)"
   ]
  },
  {
   "cell_type": "markdown",
   "id": "12818929",
   "metadata": {},
   "source": [
    "## Tuples\n",
    "Tuples are ordered and unchangeable collections."
   ]
  },
  {
   "cell_type": "code",
   "execution_count": null,
   "id": "ddef2047",
   "metadata": {},
   "outputs": [],
   "source": [
    "my_tuple = (1, 2, 3)\n",
    "print(my_tuple)"
   ]
  },
  {
   "cell_type": "markdown",
   "id": "18dfa785",
   "metadata": {},
   "source": [
    "## Sets\n",
    "Sets are unordered collections with no duplicate elements."
   ]
  },
  {
   "cell_type": "code",
   "execution_count": null,
   "id": "6971cdf5",
   "metadata": {},
   "outputs": [],
   "source": [
    "my_set = {1, 2, 3, 2}\n",
    "print(my_set)\n",
    "my_set.add(4)\n",
    "print(my_set)"
   ]
  },
  {
   "cell_type": "markdown",
   "id": "d2d31a8d",
   "metadata": {},
   "source": [
    "## Dictionaries\n",
    "Dictionaries are unordered collections of key-value pairs."
   ]
  },
  {
   "cell_type": "code",
   "execution_count": null,
   "id": "e3931b83",
   "metadata": {},
   "outputs": [],
   "source": [
    "my_dict = {'name': 'Alice', 'age': 25}\n",
    "print(my_dict)\n",
    "my_dict['age'] = 26\n",
    "print(my_dict)"
   ]
  },
  {
   "cell_type": "markdown",
   "id": "a7317ae3",
   "metadata": {},
   "source": [
    "## Stack (LIFO)\n",
    "Can be implemented using a list."
   ]
  },
  {
   "cell_type": "code",
   "execution_count": null,
   "id": "c228ffb9",
   "metadata": {},
   "outputs": [],
   "source": [
    "stack = []\n",
    "stack.append(1)\n",
    "stack.append(2)\n",
    "print(stack.pop())\n",
    "print(stack)"
   ]
  },
  {
   "cell_type": "markdown",
   "id": "260b59ff",
   "metadata": {},
   "source": [
    "## Queue (FIFO)\n",
    "Can be implemented using collections.deque."
   ]
  },
  {
   "cell_type": "code",
   "execution_count": null,
   "id": "c20bba58",
   "metadata": {},
   "outputs": [],
   "source": [
    "from collections import deque\n",
    "queue = deque([1, 2, 3])\n",
    "queue.append(4)\n",
    "print(queue.popleft())\n",
    "print(queue)"
   ]
  },
  {
   "cell_type": "markdown",
   "id": "107c48d0",
   "metadata": {},
   "source": [
    "## Singly Linked List\n",
    "A basic implementation of a singly linked list."
   ]
  },
  {
   "cell_type": "code",
   "execution_count": null,
   "id": "d72c78d2",
   "metadata": {},
   "outputs": [],
   "source": [
    "\n",
    "class Node:\n",
    "    def __init__(self, data):\n",
    "        self.data = data\n",
    "        self.next = None\n",
    "\n",
    "class LinkedList:\n",
    "    def __init__(self):\n",
    "        self.head = None\n",
    "\n",
    "    def append(self, data):\n",
    "        if not self.head:\n",
    "            self.head = Node(data)\n",
    "            return\n",
    "        current = self.head\n",
    "        while current.next:\n",
    "            current = current.next\n",
    "        current.next = Node(data)\n",
    "\n",
    "    def display(self):\n",
    "        current = self.head\n",
    "        while current:\n",
    "            print(current.data, end=\" -> \")\n",
    "            current = current.next\n",
    "        print(\"None\")\n",
    "\n",
    "ll = LinkedList()\n",
    "ll.append(1)\n",
    "ll.append(2)\n",
    "ll.append(3)\n",
    "ll.display()\n"
   ]
  },
  {
   "cell_type": "markdown",
   "id": "a20f3aa8",
   "metadata": {},
   "source": [
    "## Trees and Graphs\n",
    "These are more advanced data structures typically used in complex algorithms.\n",
    "We'll explore these in a future notebook."
   ]
  }
 ],
 "metadata": {
  "language_info": {
   "name": "python"
  }
 },
 "nbformat": 4,
 "nbformat_minor": 5
}
